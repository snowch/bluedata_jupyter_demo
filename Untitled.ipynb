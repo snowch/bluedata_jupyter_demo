{
 "cells": [
  {
   "cell_type": "code",
   "execution_count": 1,
   "metadata": {},
   "outputs": [
    {
     "name": "stdout",
     "output_type": "stream",
     "text": [
      "hello world\n"
     ]
    }
   ],
   "source": [
    "print('hello world')"
   ]
  },
  {
   "cell_type": "code",
   "execution_count": 1,
   "metadata": {},
   "outputs": [
    {
     "data": {
      "text/plain": [
       "array([[0.62811411, 0.01649675, 0.00771584],\n",
       "       [0.89961553, 0.05086048, 0.28604678],\n",
       "       [0.60936714, 0.12797536, 0.58762759]])"
      ]
     },
     "execution_count": 1,
     "metadata": {},
     "output_type": "execute_result"
    }
   ],
   "source": [
    "import numpy as np\n",
    "np.random.rand(3,3)"
   ]
  },
  {
   "cell_type": "code",
   "execution_count": 2,
   "metadata": {},
   "outputs": [
    {
     "name": "stdout",
     "output_type": "stream",
     "text": [
      "{\"version\":\"7\",\"services\":{\"jupyter-nb\":{\"1\":{\"controller\":{\"bdvlibrefkey\":[\"nodegroups\",\"1\",\"roles\",\"controller\",\"services\",\"jupyter-nb\"]}}},\"ssh\":{\"1\":{\"controller\":{\"bdvlibrefkey\":[\"nodegroups\",\"1\",\"roles\",\"controller\",\"services\",\"ssh\"]}}}},\"nodegroups\":{\"1\":{\"roles\":{\"controller\":{\"services\":{\"jupyter-nb\":{\"qualifiers\":[],\"name\":\"Jupyter Notebook\",\"id\":\"jupyter-nb\",\"hostnames\":{\"bdvlibrefkey\":[\"nodegroups\",\"1\",\"roles\",\"controller\",\"hostnames\"]},\"global_id\":\"1_controller_jupyter-nb\",\"fqdns\":{\"bdvlibrefkey\":[\"nodegroups\",\"1\",\"roles\",\"controller\",\"fqdns\"]},\"exported_service\":\"\",\"endpoints\":[\"http://nb2-controller-fktqs-0.nb2cvg82.hpecp-tenant-4-2vf4f.svc.cluster.local:8000\"],\"authToken\":\"\"},\"ssh\":{\"qualifiers\":[],\"name\":\"SSH\",\"id\":\"ssh\",\"hostnames\":{\"bdvlibrefkey\":[\"nodegroups\",\"1\",\"roles\",\"controller\",\"hostnames\"]},\"global_id\":\"1_controller_ssh\",\"fqdns\":{\"bdvlibrefkey\":[\"nodegroups\",\"1\",\"roles\",\"controller\",\"fqdns\"]},\"exported_service\":\"\",\"endpoints\":[\"://nb2-controller-fktqs-0.nb2cvg82.hpecp-tenant-4-2vf4f.svc.cluster.local:22\"],\"authToken\":\"\"}},\"node_ids\":[\"1\"],\"hostnames\":[\"nb2-controller-fktqs-0.nb2cvg82.hpecp-tenant-4-2vf4f.svc.cluster.local\"],\"fqdns\":[\"nb2-controller-fktqs-0.nb2cvg82.hpecp-tenant-4-2vf4f.svc.cluster.local\"],\"fqdn_mappings\":{\"nb2-controller-fktqs-0.nb2cvg82.hpecp-tenant-4-2vf4f.svc.cluster.local\":\"1\"},\"flavor\":{\"storage\":\"n/a\",\"name\":\"n/a\",\"memory\":\"4096\",\"description\":\"n/a\",\"cores\":\"2\"}}},\"distro_id\":\"hpecp/jupyter-notebook\",\"catalog_entry_version\":\"2.0\",\"config_metadata\":null}},\"distros\":{\"hpecp/jupyter-notebook\":{\"1\":{\"bdvlibrefkey\":[\"nodegroups\",\"1\"]}}},\"cluster\":{\"name\":\"nb2\",\"isolated\":false,\"id\":\"c17c0f6c-a897-4608-bdd1-34b29eae8fe7\",\"config_metadata\":{\"1\":{\"bdvlibrefkey\":[\"nodegroups\",\"1\",\"config_metadata\"]}}},\"node\":{\"role_id\":\"controller\",\"nodegroup_id\":\"1\",\"id\":\"1\",\"hostname\":\"nb2-controller-fktqs-0.nb2cvg82.hpecp-tenant-4-2vf4f.svc.cluster.local\",\"fqdn\":\"nb2-controller-fktqs-0.nb2cvg82.hpecp-tenant-4-2vf4f.svc.cluster.local\",\"domain\":\"nb2cvg82.hpecp-tenant-4-2vf4f.svc.cluster.local\",\"distro_id\":\"hpecp/jupyter-notebook\",\"depends_on\":{}},\"connections\":{\"clusters\":{},\"configmaps\":{},\"secrets\":{\"extAuth\":[{\"annotations\":{},\"data\":{\"auth_service_locations\":\"MTAuMS4wLjI1OjYzNg==\",\"base_dn\":\"Q049VXNlcnMsREM9c2FtZG9tLERDPWV4YW1wbGUsREM9Y29t\",\"bind_dn\":\"Y249QWRtaW5pc3RyYXRvcixDTj1Vc2VycyxEQz1zYW1kb20sREM9ZXhhbXBsZSxEQz1jb20=\",\"bind_pwd\":\"NWFtYmFQd2RA\",\"bind_type\":\"c2VhcmNoX2JpbmQ=\",\"group_attr\":\"bWVtYmVyT2Y=\",\"groups\":\"Q049RGVtb1RlbmFudEFkbWlucyxDTj1Vc2VycyxEQz1zYW1kb20sREM9ZXhhbXBsZSxEQz1jb206Ojo6Q049RGVtb1RlbmFudFVzZXJzLENOPVVzZXJzLERDPXNhbWRvbSxEQz1leGFtcGxlLERDPWNvbQ==\",\"security_protocol\":\"bGRhcHM=\",\"type\":\"QWN0aXZlIERpcmVjdG9yeQ==\",\"user_attr\":\"c0FNQWNjb3VudE5hbWU=\"},\"labels\":{\"kubedirector.hpe.com/secretType\":\"ZXh0QXV0aA==\",\"kubernetes.hpe.com/resource-tenant-visibility\":\"dHJ1ZQ==\"},\"metadata\":{\"name\":\"aHBlY3AtZXh0LWF1dGgtc2VjcmV0\"}}],\"kubeconfig\":[{\"annotations\":{},\"data\":{\"config\":\"YXBpVmVyc2lvbjogdjEKY2x1c3RlcnM6Ci0gY2x1c3RlcjoKICAgIGluc2VjdXJlLXNraXAtdGxzLXZlcmlmeTogdHJ1ZQogICAgc2VydmVyOiBodHRwczovL2lwLTEwLTEtMC0xMDMuZXUtd2VzdC0zLmNvbXB1dGUuaW50ZXJuYWw6OTUwMAogIG5hbWU6IGRlbW8taHBlY3Ata2ZjbHVzdGVyCmNvbnRleHRzOgotIGNvbnRleHQ6CiAgICBjbHVzdGVyOiBkZW1vLWhwZWNwLWtmY2x1c3RlcgogICAgdXNlcjogZGVtby1ocGVjcC1hZF91c2VyMQogICAgbmFtZXNwYWNlOiBocGVjcC10ZW5hbnQtNC0ydmY0ZgogIG5hbWU6IGRlbW8taHBlY3Ata2ZjbHVzdGVyLWs4cy10ZW5hbnQtMS1hZF91c2VyMQpjdXJyZW50LWNvbnRleHQ6IGRlbW8taHBlY3Ata2ZjbHVzdGVyLWs4cy10ZW5hbnQtMS1hZF91c2VyMQpraW5kOiBDb25maWcKcHJlZmVyZW5jZXM6IHt9CnVzZXJzOgotIG5hbWU6IGRlbW8taHBlY3AtYWRfdXNlcjEKICB1c2VyOgogICAgZXhlYzoKICAgICAgY29tbWFuZDoga3ViZWN0bAogICAgICBhcGlWZXJzaW9uOiBjbGllbnQuYXV0aGVudGljYXRpb24uazhzLmlvL3YxYmV0YTEKICAgICAgYXJnczoKICAgICAgLSBocGVjcAogICAgICAtIGF1dGhlbnRpY2F0ZQogICAgICAtIGlwLTEwLTEtMC0xMDMuZXUtd2VzdC0zLmNvbXB1dGUuaW50ZXJuYWw6ODA4MAogICAgICAtIC0taHBlY3AtdXNlcj1hZF91c2VyMQogICAgICAtIC0taHBlY3AtdG9rZW49L2FwaS92Mi9zZXNzaW9uLzJlMWM0OGRhLTI3NzAtNDE1MC05ZDA1LTViYWZkMmRiY2M5NgogICAgICAtIC0taHBlY3AtdG9rZW4tZXhwaXJ5PTE2MjQzODcwOTYKICAgICAgLSAtLWZvcmNlLXJlYXV0aD1mYWxzZQogICAgICAtIC0taW5zZWN1cmUtc2tpcC10bHMtdmVyaWZ5PXRydWUKCg==\"},\"labels\":{\"kubedirector.hpe.com/secretType\":\"a3ViZWNvbmZpZw==\",\"kubedirector.hpe.com/userid\":\"MjI=\",\"kubedirector.hpe.com/username\":\"YWRfdXNlcjE=\"},\"metadata\":{\"name\":\"aHBlY3Ata2Mtc2VjcmV0LTYzYWYzOTU5YzdmNzRiMDhjN2NiMWE2ZGVmYmM5MzI3\"}}],\"source-control\":[{\"annotations\":{},\"data\":{\"authType\":\"dG9rZW4=\",\"branch\":\"bWFzdGVy\",\"description\":\"\",\"email\":\"Y2hzbm93MTIzQGdtYWlsLmNvbQ==\",\"proxyHostname\":\"\",\"proxyPort\":\"\",\"proxyProtocol\":\"\",\"repoURL\":\"aHR0cHM6Ly9naXRodWIuY29tL3Nub3djaC9qdXB5dGVyLWRlbW8uZ2l0\",\"token\":\"Z2hwX2kwakNSVWdVcVg4cHJuN3NwVzgzSWdLMHpEOGgyajFNb3FmMg==\",\"type\":\"Z2l0aHVi\",\"username\":\"c25vd2No\",\"workingDirectory\":\"\"},\"labels\":{\"kubedirector.hpe.com/secretType\":\"c291cmNlLWNvbnRyb2w=\"},\"metadata\":{\"name\":\"aHBlY3Atc2Mtc2VjcmV0LTBlMzc2OTgxYWMzYWUzNjRjMzcyMDZjZjRhOWU3NjVh\"}},{\"annotations\":{},\"data\":{\"authType\":\"cGFzc3dvcmQ=\",\"branch\":\"bWFzdGVy\",\"description\":\"\",\"email\":\"YWRfdXNlcjFAc2FtZG9tLmV4YW1wbGUuY29t\",\"password\":\"Y0dGemN6RXlNdz09\",\"proxyHostname\":\"\",\"proxyPort\":\"\",\"proxyProtocol\":\"\",\"repoURL\":\"aHR0cDovL2lwLTEwLTEtMC0xMDMuZXUtd2VzdC0zLmNvbXB1dGUuaW50ZXJuYWw6MTAwMjIvYWRfdXNlcjEvanVweXRlci1kZW1vLmdpdA==\",\"type\":\"Z2l0aHVi\",\"username\":\"YWRfdXNlcjE=\",\"workingDirectory\":\"\"},\"labels\":{\"kubedirector.hpe.com/secretType\":\"c291cmNlLWNvbnRyb2w=\"},\"metadata\":{\"name\":\"aHBlY3Atc2Mtc2VjcmV0LTU2ZDgzMDg4OTY3MTM3YmZmNWMwZTBhZGFlOTRjZWY0\"}}]}}}"
     ]
    }
   ],
   "source": [
    "!cat /etc/guestconfig/configmeta.json"
   ]
  },
  {
   "cell_type": "code",
   "execution_count": 3,
   "metadata": {},
   "outputs": [
    {
     "name": "stdout",
     "output_type": "stream",
     "text": [
      "hpecp-sc-secret-56d83088967137bff5c0e0adae94cef4"
     ]
    }
   ],
   "source": [
    "!echo aHBlY3Atc2Mtc2VjcmV0LTU2ZDgzMDg4OTY3MTM3YmZmNWMwZTBhZGFlOTRjZWY0 | base64 -d"
   ]
  },
  {
   "cell_type": "code",
   "execution_count": 4,
   "metadata": {},
   "outputs": [
    {
     "name": "stdout",
     "output_type": "stream",
     "text": [
      "please enter your password\n"
     ]
    },
    {
     "name": "stdin",
     "output_type": "stream",
     "text": [
      " ·······\n"
     ]
    },
    {
     "name": "stderr",
     "output_type": "stream",
     "text": [
      "/opt/miniconda/lib/python3.7/site-packages/urllib3/connectionpool.py:988: InsecureRequestWarning: Unverified HTTPS request is being made to host 'ip-10-1-0-103.eu-west-3.compute.internal'. Adding certificate verification is strongly advised. See: https://urllib3.readthedocs.io/en/latest/advanced-usage.html#ssl-warnings\n",
      "  InsecureRequestWarning,\n",
      "/opt/miniconda/lib/python3.7/site-packages/urllib3/connectionpool.py:988: InsecureRequestWarning: Unverified HTTPS request is being made to host 'ip-10-1-0-103.eu-west-3.compute.internal'. Adding certificate verification is strongly advised. See: https://urllib3.readthedocs.io/en/latest/advanced-usage.html#ssl-warnings\n",
      "  InsecureRequestWarning,\n"
     ]
    },
    {
     "name": "stdout",
     "output_type": "stream",
     "text": [
      "kubeconfig set for user ad_user1\n"
     ]
    }
   ],
   "source": [
    "%kubeRefresh"
   ]
  },
  {
   "cell_type": "code",
   "execution_count": null,
   "metadata": {},
   "outputs": [],
   "source": [
    "!kubectl get secret hpecp-sc-secret-56d83088967137bff5c0e0adae94cef4 -o yaml"
   ]
  },
  {
   "cell_type": "code",
   "execution_count": 6,
   "metadata": {},
   "outputs": [
    {
     "name": "stdout",
     "output_type": "stream",
     "text": [
      "http://ip-10-1-0-103.eu-west-3.compute.internal:10022/ad_user1/jupyter-demo.git"
     ]
    }
   ],
   "source": [
    "!echo aHR0cDovL2lwLTEwLTEtMC0xMDMuZXUtd2VzdC0zLmNvbXB1dGUuaW50ZXJuYWw6MTAwMjIvYWRfdXNlcjEvanVweXRlci1kZW1vLmdpdA== | base64 -d\n"
   ]
  },
  {
   "cell_type": "code",
   "execution_count": null,
   "metadata": {},
   "outputs": [],
   "source": []
  }
 ],
 "metadata": {
  "kernelspec": {
   "display_name": "Python 3",
   "language": "python",
   "name": "python3"
  },
  "language_info": {
   "codemirror_mode": {
    "name": "ipython",
    "version": 3
   },
   "file_extension": ".py",
   "mimetype": "text/x-python",
   "name": "python",
   "nbconvert_exporter": "python",
   "pygments_lexer": "ipython3",
   "version": "3.7.3"
  }
 },
 "nbformat": 4,
 "nbformat_minor": 4
}
